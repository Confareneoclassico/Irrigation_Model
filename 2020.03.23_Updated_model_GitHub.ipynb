{
 "cells": [
  {
   "cell_type": "markdown",
   "metadata": {},
   "source": [
    "### Import all the relevant libraries"
   ]
  },
  {
   "cell_type": "code",
   "execution_count": 146,
   "metadata": {},
   "outputs": [],
   "source": [
    "import itertools\n",
    "import matplotlib.pyplot as plt\n",
    "import matplotlib.patches as mpatches\n",
    "import numpy as np\n",
    "import pandas as pd\n",
    "import scipy as sp\n",
    "import seaborn as sns\n",
    "import sobol_seq"
   ]
  },
  {
   "cell_type": "code",
   "execution_count": 147,
   "metadata": {},
   "outputs": [],
   "source": [
    "pd.set_option('display.max_columns', None)"
   ]
  },
  {
   "cell_type": "markdown",
   "metadata": {},
   "source": [
    "### Define a few functions to be used in the computation"
   ]
  },
  {
   "cell_type": "code",
   "execution_count": 148,
   "metadata": {},
   "outputs": [],
   "source": [
    "def Y(Alpha,Beta,r,N0,Gamma,Year0):\n",
    "    return Alpha*(N0**(1-Gamma)+r*(2050-Year0)*(1-Gamma))**(Beta/(1-Gamma))\n",
    "\n",
    "def create_dict(key, values):\n",
    "    return dict(zip(key, values))\n",
    "\n",
    "def trigger_index(t):\n",
    "    return np.sum(t*[len(lu_pop)/len(Areas2),len(lu_pop)/(len(Areas2)*len(dataSets)),len(lu_pop)/(len(Areas2)*len(dataSets)*\n",
    "len(Regression_Method)),len(lu_pop)/(len(Areas2)*len(dataSets)*len(Regression_Method)*len(Robustness)),1],axis=1).astype(int)\n",
    "\n",
    "def trigger_index_water(t):\n",
    "    return np.sum(t*[len(lu_water)/len(Areas2),len(lu_water)/(len(Areas2)*len(dataSets)),\n",
    "                len(lu_water)/(len(Areas2)*len(dataSets)*len(Robustness)),1],axis=1).astype(int)"
   ]
  },
  {
   "cell_type": "markdown",
   "metadata": {},
   "source": [
    "### Read the input parameters"
   ]
  },
  {
   "cell_type": "markdown",
   "metadata": {},
   "source": [
    "### irrArea = pd.read_excel('draft_1/full.dataset2.xlsx',sheet_name='meier')\n",
    "\n",
    "Areas2 = ['Africa','Americas','Asia','Europe']\n",
    "dataSets = ['Aquastat','FAOSTAT','Meier.et.al.2018','Salmon.et.al.2015','Siebert.et.al.2013','Thenkabail.et.al.2009']\n",
    "Regression_Method = ['OLS','SMA']\n",
    "Robustness = ['YES','NO']\n",
    "sl = [['OLS','NO'],['OLS','YES'],['SMA','NO'],['SMA','YES']]\n",
    "Y0 = pd.DataFrame([irrArea[irrArea['Continent']==ar2].sum() for ar2 in Areas2], index=[ar2 for ar2 in Areas2])\n",
    "Y0=Y0.iloc[:,3:]/1e6\n",
    "Y0=Y0.reindex(sorted(Y0.columns), axis=1)"
   ]
  },
  {
   "cell_type": "code",
   "execution_count": 150,
   "metadata": {},
   "outputs": [],
   "source": [
    "p3 = pd.read_csv('A.matrix.csv')"
   ]
  },
  {
   "cell_type": "code",
   "execution_count": 151,
   "metadata": {},
   "outputs": [],
   "source": [
    "p3 = p3.rename(index=str, columns={\"X1\":\"Dataset\",\"X2\":\"Regression\",\"X3\":\"Robust\"})"
   ]
  },
  {
   "cell_type": "markdown",
   "metadata": {},
   "source": [
    "### Prepare the dataset"
   ]
  },
  {
   "cell_type": "code",
   "execution_count": 152,
   "metadata": {},
   "outputs": [],
   "source": [
    "lu_pop = pd.read_csv('lookup.pop.csv',header=0)\n",
    "lu_pop = lu_pop.sort_values(by=['Continent','Dataset','Regression','Robust','Beta']).reset_index(drop=True)\n",
    "lu_water = pd.read_csv('lookup.water.csv',header=0)\n",
    "lu_water = lu_water.sort_values(by=['Continent','Dataset','Robust','Delta']).reset_index(drop=True)"
   ]
  },
  {
   "cell_type": "markdown",
   "metadata": {},
   "source": [
    "### Set the lookup table"
   ]
  },
  {
   "cell_type": "code",
   "execution_count": 153,
   "metadata": {},
   "outputs": [],
   "source": [
    "lu_water = lu_water.rename(columns={'Continent':'Continent_w','Dataset':'Dataset_w','Regression':'Regression_w',\n",
    "                                   'Robust':'Robust_w'})"
   ]
  },
  {
   "cell_type": "markdown",
   "metadata": {},
   "source": [
    "### K setting the carrying capacity factor (cropland available)"
   ]
  },
  {
   "cell_type": "code",
   "execution_count": 154,
   "metadata": {},
   "outputs": [],
   "source": [
    "K = pd.DataFrame([[7.14e8,8.85e8,6.68e8,4.78e8],[1.205e9,1.481e9,8.89e8,7.05e8]],columns=[ar2 for ar2 in Areas2],index=\\\n",
    "                    ['Net','Gross']).T\n",
    "K = K/1.e6"
   ]
  },
  {
   "cell_type": "markdown",
   "metadata": {},
   "source": [
    "### $W_a$ setting the water carrying capacity factor (water available)"
   ]
  },
  {
   "cell_type": "code",
   "execution_count": 155,
   "metadata": {},
   "outputs": [],
   "source": [
    "Wa = pd.DataFrame([[3142,15629,8851,5261],[4714,23553,13277,7891]],columns=[ar2 for ar2 in Areas2],index=\\\n",
    "                    ['Lower','Upper']).T"
   ]
  },
  {
   "cell_type": "markdown",
   "metadata": {},
   "source": [
    "### $\\eta$ water available share for irrigation"
   ]
  },
  {
   "cell_type": "code",
   "execution_count": 156,
   "metadata": {},
   "outputs": [],
   "source": [
    "eta = pd.Series([0.2,0.5],index=['Lower','Upper'])"
   ]
  },
  {
   "cell_type": "markdown",
   "metadata": {},
   "source": [
    "### Quasi-random matrix for the Monte Carlo simulations"
   ]
  },
  {
   "cell_type": "code",
   "execution_count": 157,
   "metadata": {},
   "outputs": [],
   "source": [
    "qM =sobol_seq.i4_sobol_generate(28,2**15)"
   ]
  },
  {
   "cell_type": "markdown",
   "metadata": {},
   "source": [
    "### Building the triggers for the lookup table"
   ]
  },
  {
   "cell_type": "code",
   "execution_count": 158,
   "metadata": {},
   "outputs": [],
   "source": [
    "continent_v = np.array(list(itertools.chain.from_iterable(itertools.repeat(x, 2**15) \n",
    "for x in range(len(Areas2)))))\n",
    "\n",
    "triggers = np.vstack((continent_v,np.tile((qM[:,0:4]*[6,2,2,10_000]).T,4))).astype(int)\n",
    "\n",
    "triggers_w = np.vstack((continent_v,np.tile((qM[:,4:7]*[6,2,10_000]).T,4))).astype(int)\n",
    "\n",
    "triggersB = np.vstack((continent_v,np.tile((qM[:,14:18]*[6,2,2,10_000]).T,4))).astype(int)\n",
    "\n",
    "triggers_wB = np.vstack((continent_v,np.tile((qM[:,18:21]*[6,2,10_000]).T,4))).astype(int)"
   ]
  },
  {
   "cell_type": "markdown",
   "metadata": {},
   "source": [
    "### Adjust the database to $2^{15}$ values"
   ]
  },
  {
   "cell_type": "code",
   "execution_count": 159,
   "metadata": {},
   "outputs": [],
   "source": [
    "p4 = p3.r\n",
    "p4B = pd.read_csv('B.matrix.csv')['r']"
   ]
  },
  {
   "cell_type": "markdown",
   "metadata": {},
   "source": [
    "### Define the coefficients for the alpha regression in terms of Beta"
   ]
  },
  {
   "cell_type": "code",
   "execution_count": 160,
   "metadata": {},
   "outputs": [],
   "source": [
    "a =  -0.4897174\n",
    "b = -1.245234\n",
    "epsilon = 0.1579309"
   ]
  },
  {
   "cell_type": "markdown",
   "metadata": {},
   "source": [
    "### Population initial figures"
   ]
  },
  {
   "cell_type": "code",
   "execution_count": 161,
   "metadata": {},
   "outputs": [],
   "source": [
    "PPop = pd.read_csv('draft_1/UN_PP1999-2012.csv')\n",
    "del PPop['Variant']\n",
    "PPop = PPop.rename(columns={'Country or Area':'Continent','Year(s)':'Year'})\n",
    "PPop=PPop.pivot(index='Continent',columns='Year',values='Value')\n",
    "PPop.loc['Americas']=PPop.loc['Latin America and the Caribbean']+PPop.loc['Northern America']\n",
    "PPop = PPop.drop(['Latin America and the Caribbean','Northern America'])\n",
    "PPop = PPop.sort_index()"
   ]
  },
  {
   "cell_type": "code",
   "execution_count": 162,
   "metadata": {},
   "outputs": [],
   "source": [
    "tr_As = [triggers] \n",
    "for tr in range(1,len(triggers)):\n",
    "    tr_As.append(triggers.copy())\n",
    "    tr_As[tr][tr]=triggersB[tr]\n",
    "\n",
    "tr_As_w = [triggers_w] \n",
    "for tr in range(1,len(triggers_w)):\n",
    "    tr_As_w.append(triggers_w.copy())\n",
    "    tr_As_w[tr][tr]=triggers_wB[tr]\n",
    "    \n",
    "tr_Bs = [triggersB] \n",
    "\n",
    "tr_Bs_w = [triggers_wB] \n",
    "    \n",
    "tIndexA = [trigger_index(tri.T) for tri in tr_As]\n",
    "tIndexB = [trigger_index(triB.T) for triB in tr_Bs]\n",
    "\n",
    "tIndexA_w = [trigger_index_water(tri.T) for tri in tr_As_w]\n",
    "tIndexB_w = [trigger_index_water(triB.T) for triB in tr_Bs_w]"
   ]
  },
  {
   "cell_type": "code",
   "execution_count": 163,
   "metadata": {},
   "outputs": [],
   "source": [
    "sM_As = []\n",
    "for itI,tI in enumerate(tIndexA):\n",
    "    sM_As.append(lu_pop.copy())\n",
    "    sM_As[itI]=sM_As[itI].reindex(tI)\n",
    "    sM_As[itI]=sM_As[itI].reset_index(drop=True)\n",
    "    \n",
    "sM_Bs = []\n",
    "for itIB,tIB in enumerate(tIndexB):\n",
    "    sM_Bs.append(lu_pop.copy())\n",
    "    sM_Bs[itIB]=sM_Bs[itIB].reindex(tIB)\n",
    "    sM_Bs[itIB]=sM_Bs[itIB].reset_index(drop=True)\n",
    "    \n",
    "sM_As_w = []\n",
    "for itI,tI in enumerate(tIndexA_w):\n",
    "    sM_As_w.append(lu_water.copy())\n",
    "    sM_As_w[itI]=sM_As_w[itI].reindex(tI)\n",
    "    sM_As_w[itI]=sM_As_w[itI].reset_index(drop=True)\n",
    "    sM_As_w[itI]=pd.concat([sM_As[0],sM_As_w[itI]],axis=1)\n",
    "    \n",
    "sM_Bs_w = []\n",
    "for itIB,tIB in enumerate(tIndexB_w):\n",
    "    sM_Bs_w.append(lu_water.copy())\n",
    "    sM_Bs_w[itIB]=sM_Bs_w[itIB].reindex(tIB)\n",
    "    sM_Bs_w[itIB]=sM_Bs_w[itIB].reset_index(drop=True)\n",
    "    sM_Bs_w[itIB]=pd.concat([sM_Bs[0],sM_Bs_w[itIB]],axis=1)\n",
    "\n",
    "sM_A = []    \n",
    "for sma in sM_As:\n",
    "    sM_A.append(pd.concat([sma,sM_As_w[0].iloc[:,6:]],axis=1))\n",
    "\n",
    "sM_B = []    \n",
    "for smb in sM_Bs:\n",
    "    sM_B.append(pd.concat([smb,sM_Bs_w[0].iloc[:,6:]],axis=1))\n",
    "\n",
    "sM_A.extend(sM_As_w[1:])\n",
    "sM_B.extend(sM_Bs_w[1:])"
   ]
  },
  {
   "cell_type": "markdown",
   "metadata": {},
   "source": [
    "### Fix all the parameters"
   ]
  },
  {
   "cell_type": "code",
   "execution_count": 164,
   "metadata": {},
   "outputs": [],
   "source": [
    "for sm in sM_A:\n",
    "    sm['r']=p4.values\n",
    "    sm['Year0'] = np.tile((PPop.columns.min()+(PPop.columns.max()-PPop.columns.min()+1)*qM[:,10]).astype(int),4)\n",
    "    sm['Gamma']= np.tile(0.02*2**0.5*sp.special.erfinv(2*qM[:,8]-1)+1,4)\n",
    "    sm['Y0']=0\n",
    "    sm['K']=0\n",
    "    sm['Wa']=0\n",
    "    sm['eta']=np.tile(eta['Lower']+qM[:,13]*(eta['Upper']-eta['Lower']),4)\n",
    "    for ar2 in Areas2:\n",
    "        sm.loc[sm['Continent']==ar2,'Y0']=Y0.loc[ar2].min()+qM[:,9]*(Y0.loc[ar2].max()-Y0.loc[ar2].min())\n",
    "        sm.loc[sm['Continent']==ar2,'K']=K['Net'].loc[ar2]+qM[:,11]*(K['Gross'].loc[ar2]-K['Net'].loc[ar2])\n",
    "        sm.loc[sm['Continent']==ar2,'Wa']=Wa['Lower'].loc[ar2]+qM[:,12]*(Wa['Upper'].loc[ar2]-Wa['Lower'].loc[ar2])\n",
    "    sm['N0']=[PPop[smy][ar2]/1.e3 for ar2 in Areas2 for smy in sm['Year0'][:int(len(sm)/4)]]\n",
    "    sm['Alpha']=sm.Y0/(sm.N0)**sm.Beta\n",
    "        \n",
    "for smB in sM_B:\n",
    "    smB['r']=p4B.values\n",
    "    smB['Year0'] = np.tile((PPop.columns.min()+(PPop.columns.max()-PPop.columns.min()+1)*qM[:,24]).astype(int),4)\n",
    "    smB['Gamma']= np.tile(0.02*2**0.5*sp.special.erfinv(2*qM[:,22]-1)+1,4)\n",
    "    smB['Y0']=0\n",
    "    smB['K']=0\n",
    "    smB['Wa']=0\n",
    "    smB['eta']=np.tile(eta['Lower']+qM[:,27]*(eta['Upper']-eta['Lower']),4)\n",
    "    for ar2 in Areas2:\n",
    "        smB.loc[smB['Continent']==ar2,'Y0']=Y0.loc[ar2].min()+qM[:,23]*(Y0.loc[ar2].max()-Y0.loc[ar2].min())\n",
    "        smB.loc[smB['Continent']==ar2,'K']=K['Net'].loc[ar2]+qM[:,25]*(K['Gross'].loc[ar2]-K['Net'].loc[ar2])\n",
    "        smB.loc[smB['Continent']==ar2,'Wa']=Wa['Lower'].loc[ar2]+qM[:,26]*(Wa['Upper'].loc[ar2]-Wa['Lower'].loc[ar2])\n",
    "    smB['N0']=[PPop[smy][ar2]/1.e3 for ar2 in Areas2 for smy in smB['Year0'][:int(len(smB)/4)]]\n",
    "    smB['Alpha']=smB.Y0/(smB.N0)**smB.Beta"
   ]
  },
  {
   "cell_type": "markdown",
   "metadata": {},
   "source": [
    "### Define the variables list for the scrambled matrices"
   ]
  },
  {
   "cell_type": "code",
   "execution_count": 166,
   "metadata": {},
   "outputs": [],
   "source": [
    "variables2 = [['r'],['Y0','Alpha'],['Year0','N0'],['Gamma'],['K'],['Wa'],['eta']]"
   ]
  },
  {
   "cell_type": "code",
   "execution_count": 167,
   "metadata": {},
   "outputs": [],
   "source": [
    "variables = [['Dataset'],['Regression'],['Robust'],['X4'],['Dataset_w'],['Robust_w'],['w4'],['r'],['Y0','Alpha'],['Year0','N0'],\n",
    "             ['Gamma'],['K'],['Wa'],['eta']]"
   ]
  },
  {
   "cell_type": "code",
   "execution_count": 168,
   "metadata": {},
   "outputs": [],
   "source": [
    "for iv,v in enumerate(variables2):\n",
    "    sM_A.append(sM_A[0].copy())\n",
    "    sM_A[-1][v]=sM_B[0][v]\n",
    "    sM_A[-1]['Alpha']=sM_A[-1].Y0/(sM_A[-1].N0)**sM_A[-1].Beta"
   ]
  },
  {
   "cell_type": "code",
   "execution_count": 169,
   "metadata": {},
   "outputs": [],
   "source": [
    "for sm in sM_A:\n",
    "    sm['Y']=Y(sm.Alpha,sm.Beta,sm.r,sm.N0,sm.Gamma,sm.Year0)\n",
    "    sm.loc[sm['Y']>sm.K,'Y'] = sm.K\n",
    "    sm.loc[(sm.Wa*sm.eta<sm.Y**sm.Delta*10**sm.Phi)&((sm.Wa*sm.eta/10**sm.Phi)**(1/sm.Delta) > sm.Y0),'Y'] = \\\n",
    "    (sm.Wa*sm.eta/10**sm.Phi)**(1/sm.Delta)\n",
    "    sm.loc[(sm.Wa*sm.eta<sm.Y**sm.Delta*10**sm.Phi)&((sm.Wa*sm.eta/10**sm.Phi)**(1/sm.Delta) < sm.Y0),'Y'] = \\\n",
    "    sm.Y0\n",
    "    sm.loc[sm['Y']<0,'Y'] = sm.Y0\n",
    "    \n",
    "        \n",
    "for smB in sM_B:\n",
    "    smB['Y']=Y(smB.Alpha,smB.Beta,smB.r,smB.N0,smB.Gamma,smB.Year0)\n",
    "    smB.loc[smB['Y']>smB.K,'Y'] = smB.K\n",
    "    smB.loc[(smB.Wa*smB.eta<smB.Y**smB.Delta*10**smB.Phi)&((smB.Wa*smB.eta/10**smB.Phi)**(1/smB.Delta) \n",
    "            > smB.Y0),'Y'] = (smB.Wa*smB.eta/10**smB.Phi)**(1/smB.Delta)\n",
    "    smB.loc[(smB.Wa*smB.eta<smB.Y**smB.Delta*10**smB.Phi)&((smB.Wa*smB.eta/10**smB.Phi)**(1/smB.Delta)\n",
    "            < smB.Y0),'Y'] = smB.Y0\n",
    "    smB.loc[smB['Y']<0,'Y'] = sm.Y0"
   ]
  },
  {
   "cell_type": "markdown",
   "metadata": {},
   "source": [
    "### Append the B matrix for the Sobol-indices computation"
   ]
  },
  {
   "cell_type": "code",
   "execution_count": 170,
   "metadata": {},
   "outputs": [],
   "source": [
    "sM_S = sM_A.copy()\n",
    "sM_S.append(sM_B[0])"
   ]
  },
  {
   "cell_type": "markdown",
   "metadata": {},
   "source": [
    "### Narrow down the indices in order to get rid of potential 'orphan' (uncoupled) rows across the matrices"
   ]
  },
  {
   "cell_type": "code",
   "execution_count": 171,
   "metadata": {},
   "outputs": [],
   "source": [
    "inr = sM_S[0].index.intersection(sM_S[1].index).intersection(sM_S[2].index).intersection(sM_S[3].index).\\\n",
    "intersection(sM_S[4].index).intersection(sM_S[5].index).intersection(sM_S[6].index).intersection(sM_S[7].index).\\\n",
    "intersection(sM_S[8].index).intersection(sM_S[9].index).intersection(sM_S[10].index).intersection(sM_S[11].index).\\\n",
    "intersection(sM_S[12].index).intersection(sM_S[13].index).intersection(sM_S[14].index).intersection(sM_S[15].index)\n",
    "\n",
    "sM_S = [sms.merge(pd.DataFrame(index=inr), left_index=True, right_index=True, how='right').reset_index(drop=True) for sms in sM_S]"
   ]
  },
  {
   "cell_type": "markdown",
   "metadata": {},
   "source": [
    "### Assess the Global Irrigated Area in 2050"
   ]
  },
  {
   "cell_type": "code",
   "execution_count": 172,
   "metadata": {},
   "outputs": [],
   "source": [
    "worldIrrigatedArea = pd.concat([sM_A[0].Y[ia*int(len(sM_A[0].Y)/len(Areas2)):(ia+1)*int(len(sM_A[0].Y)/len(Areas2))].reset_index(drop=True) \n",
    "                                for ia in range(len(Areas2))],axis=1,ignore_index=True).sum(axis=1)"
   ]
  },
  {
   "cell_type": "markdown",
   "metadata": {},
   "source": [
    "### Bootstrap sensitivity indices"
   ]
  },
  {
   "cell_type": "code",
   "execution_count": 173,
   "metadata": {},
   "outputs": [],
   "source": [
    "c_r = []\n",
    "T_r = []\n",
    "Sa_r = []\n",
    "for re in range(1_000):    \n",
    "    seed = sM_S[0].sample(frac=1,replace=True).sort_index().index\n",
    "    sM_BS = [smS.reindex(seed) for smS in sM_S]\n",
    "\n",
    "    V = []\n",
    "    Sa_V = []\n",
    "    T_V = []\n",
    "    \n",
    "    for imb,mb in enumerate(sM_BS[1:-1]):\n",
    "        Geo = []\n",
    "        Sa_G = []\n",
    "        T_G = []\n",
    "        for ar2 in Areas2:\n",
    "            Var = np.var(np.concatenate((sM_BS[-1]['Y'][sM_BS[-1]['Continent']==ar2].values,\n",
    "                             sM_BS[0]['Y'][sM_BS[0]['Continent']==ar2].values),axis=None),ddof=0)\n",
    "            Sa_G.append(np.mean((mb['Y'][mb['Continent']==ar2].values-sM_BS[0]['Y'][sM_BS[0]['Continent']==ar2].values)*\\\n",
    "                         sM_BS[-1]['Y'][sM_BS[-1]['Continent']==ar2].values)/Var)\n",
    "            T_G.append(0.5*(np.mean((mb['Y'][mb['Continent']==ar2].values-sM_BS[0]['Y'][sM_BS[0]['Continent']==ar2].values)**2))/\\\n",
    "                       Var)\n",
    "            Geo.append(ar2)\n",
    "        Sa_G_dic = create_dict(Geo,Sa_G)\n",
    "        T_G_dic = create_dict(Geo,T_G)\n",
    "        V.append(variables[imb][0])\n",
    "        Sa_V.append(Sa_G_dic)\n",
    "        T_V.append(T_G_dic)\n",
    "    Sa_V_dic = create_dict(V,Sa_V)\n",
    "    T_V_dic = create_dict(V,T_V)\n",
    "    \n",
    "    c_r.append(re)\n",
    "    Sa_r.append(Sa_V_dic)\n",
    "    T_r.append(T_V_dic)\n",
    "Sa_r_dic = create_dict(c_r,Sa_r)\n",
    "T_r_dic = create_dict(c_r,T_r)\n",
    "Sa_of_df = {Sa_k: pd.DataFrame(Sa_v) for Sa_k,Sa_v in Sa_r_dic.items()}\n",
    "T_of_df = {T_k: pd.DataFrame(T_v) for T_k,T_v in T_r_dic.items()}\n",
    "T_df = pd.concat(T_of_df, axis=0)\n",
    "Sa_df = pd.concat(Sa_of_df, axis=0)"
   ]
  },
  {
   "cell_type": "markdown",
   "metadata": {},
   "source": [
    "### Irrigated Land Area Distribution plots"
   ]
  },
  {
   "cell_type": "code",
   "execution_count": 174,
   "metadata": {},
   "outputs": [],
   "source": [
    "co = ['b','r','g','k','c','m']\n",
    "plt.style.use('ggplot')\n",
    "for ar2 in Areas2:\n",
    "    ax = sns.distplot(sM_A[0].Y[sM_A[0].Continent==ar2], bins=30, kde=False, axlabel='Irrigated Area 2050 (ha)_'+str(ar2))\n",
    "    ax.set_xscale('log')\n",
    "    ax.set_ylabel('Count')\n",
    "    for ds in K:\n",
    "        plt.axvline(x=K[ds][ar2],label=str(ds)+' Cropland in 2050')\n",
    "    plt.legend()\n",
    "    plt.xlim(1,1.e3)\n",
    "    plt.show()"
   ]
  },
  {
   "cell_type": "markdown",
   "metadata": {},
   "source": [
    "### Distribution plots World Area"
   ]
  },
  {
   "cell_type": "code",
   "execution_count": 176,
   "metadata": {},
   "outputs": [
    {
     "data": {
      "image/png": "[encoded data removed]",
      "text/plain": [
       "<Figure size 432x288 with 1 Axes>"
      ]
     },
     "metadata": {},
     "output_type": "display_data"
    }
   ],
   "source": [
    "plt.style.use('ggplot')\n",
    "ax = sns.distplot(worldIrrigatedArea, bins=10, kde=False, color='k',axlabel='Global Irrigated Area 2050 (ha)')\n",
    "ax.set_xscale('log')\n",
    "ax.set_ylabel('Count')\n",
    "plt.fill_between((worldIrrigatedArea.quantile(.025),worldIrrigatedArea.quantile(.975)),(15000,15000),color='r',alpha=0.25,\n",
    "                label='95% percentile')\n",
    "plt.fill_between((2.e2,4.5e2),(15000,15000),color='g',alpha=0.25,label='State of the art projections')\n",
    "plt.yticks(np.arange(0, 1.5e4, step=5e3))\n",
    "plt.ylim(0,1.5e4)\n",
    "plt.xlim(1,3.e3)\n",
    "plt.legend()\n",
    "plt.show()"
   ]
  },
  {
   "cell_type": "markdown",
   "metadata": {},
   "source": [
    "### Scatter Plots"
   ]
  },
  {
   "cell_type": "code",
   "execution_count": 178,
   "metadata": {},
   "outputs": [],
   "source": [
    "co = ['Dataset','Regression','Robust','r','Y0','Year0','Gamma','K']\n",
    "for ar2 in Areas2:\n",
    "    for col in co:\n",
    "        plt.figure(figsize=(20,10))\n",
    "        plt.scatter(sM_A[0][col][sM_A[0].Continent==ar2],sM_A[0]['Y'][sM_A[0].Continent==ar2],s=1,label=str(ar2)+'_'+str(col))\n",
    "        plt.yscale('log')\n",
    "        plt.ylim(1.,2.e3)\n",
    "        plt.legend()\n",
    "        plt.show()"
   ]
  },
  {
   "cell_type": "markdown",
   "metadata": {},
   "source": [
    "### Sensitivity-indices boxplots"
   ]
  },
  {
   "cell_type": "code",
   "execution_count": 179,
   "metadata": {},
   "outputs": [],
   "source": [
    "for ar2 in Areas2:\n",
    "    fig, ax = plt.subplots(figsize=(20,10))\n",
    "    for iv,v in enumerate(variables):\n",
    "        T_df.loc[pd.IndexSlice[:, ar2],:].plot(kind='box',ax=ax,label='T', color='b',patch_artist=True)\n",
    "        Sa_df.loc[pd.IndexSlice[:, ar2],:].plot(kind='box',ax=ax,label='S',positions=[iv+0.5 for iv in range(len(variables))],\n",
    "                                              color='r',patch_artist=True)\n",
    "    m_patch = mpatches.Patch(color='b'\n",
    "                             , label='T')\n",
    "    c_patch = mpatches.Patch(color='r', label='S')\n",
    "    plt.legend(handles=[m_patch,c_patch])\n",
    "    plt.xticks([iv+0.75 for iv in range(len(variables))])\n",
    "    plt.xlim(0,15.5)\n",
    "    plt.title(ar2)\n",
    "    plt.show()"
   ]
  },
  {
   "cell_type": "code",
   "execution_count": null,
   "metadata": {},
   "outputs": [],
   "source": []
  }
 ],
 "metadata": {
  "kernelspec": {
   "display_name": "Python 3",
   "language": "python",
   "name": "python3"
  },
  "language_info": {
   "codemirror_mode": {
    "name": "ipython",
    "version": 3
   },
   "file_extension": ".py",
   "mimetype": "text/x-python",
   "name": "python",
   "nbconvert_exporter": "python",
   "pygments_lexer": "ipython3",
   "version": "3.7.6"
  }
 },
 "nbformat": 4,
 "nbformat_minor": 4
}
